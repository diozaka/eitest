{
 "cells": [
  {
   "cell_type": "markdown",
   "metadata": {},
   "source": [
    "# AMPds\n",
    "This notebook allows reproducing the results of EITEST on the Almanac of Minutely Power dataset (AMPds) [1] from Section 5.2 of our paper [2]. To run the code, download the file `Electricity_P.csv` from http://ampds.org/ and store it in the current working directory.\n",
    "\n",
    "[1] S. Makonin, B. Ellert, I. V. Bajic, and F. Popowich: **Electricity, water, and natural gas consumption of a residential house in Canada from 2012 to 2014.** Scientific Data, vol. 3, no. 160037, pp. 1–12, 2016.\n",
    "\n",
    "[2] E. Scharwächter, E. Müller: **Two-Sample Testing for Event Impacts in Time Series.** SIAM International Conference on Data Mining (SDM20)."
   ]
  },
  {
   "cell_type": "code",
   "execution_count": 8,
   "metadata": {},
   "outputs": [],
   "source": [
    "import pandas as pd\n",
    "import numpy as np\n",
    "import matplotlib.pyplot as plt\n",
    "import time\n",
    "\n",
    "import eitest"
   ]
  },
  {
   "cell_type": "code",
   "execution_count": 9,
   "metadata": {},
   "outputs": [
    {
     "name": "stdout",
     "output_type": "stream",
     "text": [
      "number of events: 413\n",
      "length of time series: 1051200\n"
     ]
    },
    {
     "data": {
      "image/png": "[encoded data removed]",
      "text/plain": [
       "<Figure size 1080x216 with 1 Axes>"
      ]
     },
     "metadata": {
      "needs_background": "light"
     },
     "output_type": "display_data"
    }
   ],
   "source": [
    "ampds = pd.read_csv('Electricity_P.csv')\n",
    "ampds = ampds.drop('UNIX_TS', axis=1)\n",
    "\n",
    "# Extract clothes washer events. A clothes washer event occurs whenever there is non-zero\n",
    "# electricity consumption on the CWE meter preceded by at least 10 minutes of zero consumption.\n",
    "es = ampds['CWE'].rolling(11).apply(lambda x: (x[0:10].sum() == 0) & (x[10]>0), raw=True).fillna(0.0).values\n",
    "\n",
    "print('number of events: %d' % es.sum())\n",
    "print('length of time series: %d' % ampds.shape[0])\n",
    "\n",
    "plt.figure(figsize=(15,3))\n",
    "plt.plot(ampds['CWE'])\n",
    "plt.plot(es*1000)\n",
    "plt.xlim(0,10000)\n",
    "plt.title('CWE time series along with clothes washer events (excerpt)')\n",
    "plt.show()"
   ]
  },
  {
   "cell_type": "markdown",
   "metadata": {},
   "source": [
    "## EITEST-KS\n",
    "Terminates within a few seconds."
   ]
  },
  {
   "cell_type": "code",
   "execution_count": 11,
   "metadata": {},
   "outputs": [
    {
     "name": "stdout",
     "output_type": "stream",
     "text": [
      "EITEST-KS WHE 0.0000\n",
      "EITEST-KS RSE 1.0000\n",
      "EITEST-KS GRE 1.0000\n",
      "EITEST-KS MHE 0.0000\n",
      "EITEST-KS B1E 1.0000\n",
      "EITEST-KS BME 0.8629\n",
      "EITEST-KS CWE 0.0000\n",
      "EITEST-KS DWE 1.0000\n",
      "EITEST-KS EQE 1.0000\n",
      "EITEST-KS FRE 1.0000\n",
      "EITEST-KS HPE 1.0000\n",
      "EITEST-KS OFE 1.0000\n",
      "EITEST-KS UTE 1.0000\n",
      "EITEST-KS WOE 1.0000\n",
      "EITEST-KS B2E 0.0045\n",
      "EITEST-KS CDE 0.0000\n",
      "EITEST-KS DNE 1.0000\n",
      "EITEST-KS EBE 1.0000\n",
      "EITEST-KS FGE 1.0000\n",
      "EITEST-KS HTE 0.0000\n",
      "EITEST-KS OUE 0.0000\n",
      "EITEST-KS TVE 1.0000\n",
      "EITEST-KS UNE 0.0084\n",
      "time elapsed: 15.15 secs\n"
     ]
    }
   ],
   "source": [
    "start_time = time.time()\n",
    "K = 120\n",
    "for meter in ampds.columns:\n",
    "    ts = ampds[meter].values.astype(float)\n",
    "    sample = eitest.obtain_samples(es, ts, lag_cutoff=K, instantaneous=True, sort=True)\n",
    "    tstats, pvals = eitest.pairwise_twosample_tests(sample, 'ks', min_pts=2)\n",
    "    pvals_adj = eitest.multitest(np.sort(pvals[~np.isnan(pvals)]), 'simes')\n",
    "    print('EITEST-KS %s %.4f' % (meter, pvals_adj.min()))\n",
    "print(\"time elapsed: %.2f secs\" % (time.time()-start_time))"
   ]
  },
  {
   "cell_type": "markdown",
   "metadata": {},
   "source": [
    "## EITEST-MMD\n",
    "Terminates within 20 minutes."
   ]
  },
  {
   "cell_type": "code",
   "execution_count": 13,
   "metadata": {},
   "outputs": [
    {
     "name": "stdout",
     "output_type": "stream",
     "text": [
      "EITEST-MMD WHE 0.0000\n",
      "EITEST-MMD RSE 0.9721\n",
      "EITEST-MMD GRE 0.8754\n",
      "EITEST-MMD MHE 0.0000\n",
      "EITEST-MMD B1E 0.9819\n",
      "EITEST-MMD BME 0.0000\n",
      "EITEST-MMD CWE 0.0000\n",
      "EITEST-MMD DWE 0.9759\n",
      "EITEST-MMD EQE 0.0119\n",
      "EITEST-MMD FRE 0.9998\n",
      "EITEST-MMD HPE 0.0152\n",
      "EITEST-MMD OFE 0.6240\n",
      "EITEST-MMD UTE 0.0074\n",
      "EITEST-MMD WOE 0.9340\n",
      "EITEST-MMD B2E 0.0000\n",
      "EITEST-MMD CDE 0.0000\n",
      "EITEST-MMD DNE 0.9728\n",
      "EITEST-MMD EBE 0.0562\n",
      "EITEST-MMD FGE 0.9313\n",
      "EITEST-MMD HTE 0.0000\n",
      "EITEST-MMD OUE 0.0000\n",
      "EITEST-MMD TVE 0.3944\n",
      "EITEST-MMD UNE 0.0004\n",
      "time elapsed: 1051.41 secs\n"
     ]
    }
   ],
   "source": [
    "start_time = time.time()\n",
    "K = 120\n",
    "for meter in ampds.columns:\n",
    "    ts = ampds[meter].values.astype(float)\n",
    "    sample = eitest.obtain_samples(es, ts, lag_cutoff=K, instantaneous=True, sort=False)\n",
    "    tstats, pvals = eitest.pairwise_twosample_tests(sample, 'mmd', min_pts=2)\n",
    "    pvals_adj = eitest.multitest(np.sort(pvals[~np.isnan(pvals)]), 'simes')\n",
    "    print('EITEST-MMD %s %.4f' % (meter, pvals_adj.min()))\n",
    "print(\"time elapsed: %.2f secs\" % (time.time()-start_time))"
   ]
  },
  {
   "cell_type": "code",
   "execution_count": null,
   "metadata": {},
   "outputs": [],
   "source": []
  }
 ],
 "metadata": {
  "kernelspec": {
   "display_name": "Python 3",
   "language": "python",
   "name": "python3"
  },
  "language_info": {
   "codemirror_mode": {
    "name": "ipython",
    "version": 3
   },
   "file_extension": ".py",
   "mimetype": "text/x-python",
   "name": "python",
   "nbconvert_exporter": "python",
   "pygments_lexer": "ipython3",
   "version": "3.7.5"
  }
 },
 "nbformat": 4,
 "nbformat_minor": 2
}
